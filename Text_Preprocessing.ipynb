{
 "cells": [
  {
   "cell_type": "markdown",
   "metadata": {},
   "source": [
    "## Text_Preprocessing\n",
    "\n",
    "- word tokenisation\n",
    "- lowercasing\n",
    "- special characters & punctuations\n",
    "- numbers \n",
    "- stop words "
   ]
  },
  {
   "cell_type": "code",
   "execution_count": 1,
   "metadata": {},
   "outputs": [
    {
     "name": "stderr",
     "output_type": "stream",
     "text": [
      "[nltk_data] Downloading package stopwords to /Users/jlee/nltk_data...\n",
      "[nltk_data]   Package stopwords is already up-to-date!\n",
      "[nltk_data] Downloading package punkt to /Users/jlee/nltk_data...\n",
      "[nltk_data]   Package punkt is already up-to-date!\n"
     ]
    }
   ],
   "source": [
    "import pandas as pd\n",
    "import numpy as np\n",
    "from os import mkdir\n",
    "from class_corpus_prepare import corpus_prepare, preprocessing_text\n",
    "from nltk.tokenize import word_tokenize"
   ]
  },
  {
   "cell_type": "code",
   "execution_count": 2,
   "metadata": {},
   "outputs": [],
   "source": [
    "def apply_preprocessing(data, remove_stopwords = False):\n",
    "    ''' apply preprocessing steps by\n",
    "        calling preprocessing_text class methods\n",
    "    '''\n",
    "    # tokenisation\n",
    "    token_data = [word_tokenize(i) for i in data]\n",
    "    prepro = preprocessing_text()\n",
    "    # remove punctuations\n",
    "    token_processed = [prepro.remove_punctuations(j) for j in token_data]\n",
    "     # remove numbers\n",
    "    token_processed = [prepro.remove_numbers(t) for t in token_processed]\n",
    "    # remove stopwords\n",
    "    if remove_stopwords == 'nltk':\n",
    "        token_processed = [prepro.remove_stopwords(t, 'nltk') for t in token_processed]\n",
    "    if remove_stopwords == 'spacy':\n",
    "        token_processed = [prepro.remove_stopwords(t, 'spacy') for t in token_processed]\n",
    "    # detokenise it to strings of words for saving it for df and csv\n",
    "    text_processed = [' '.join(t) for t in token_processed]\n",
    "        \n",
    "    return text_processed         "
   ]
  },
  {
   "cell_type": "code",
   "execution_count": 3,
   "metadata": {},
   "outputs": [],
   "source": [
    "def save_as_df(X, y):\n",
    "    ''' apply different types of preprocessing \n",
    "        and store the processed texts in a dataframe. \n",
    "    '''\n",
    "    punc_num = apply_preprocessing(X)\n",
    "    nltk = apply_preprocessing(X, remove_stopwords = 'nltk')\n",
    "    spacy = apply_preprocessing(X, remove_stopwords = 'spacy')\n",
    "    label = y\n",
    "    # save it to a dataframe\n",
    "    df_processed = pd.DataFrame()\n",
    "    df_processed['standard'] = punc_num\n",
    "    df_processed['stopwords_nltk'] = nltk\n",
    "    df_processed['stopwords_spacy'] = spacy\n",
    "    df_processed['label'] = label\n",
    "    # shuffle rows of each df\n",
    "    df_processed = df_processed.sample(frac = 1).reset_index(drop = True)\n",
    "    \n",
    "    return df_processed"
   ]
  },
  {
   "cell_type": "code",
   "execution_count": 4,
   "metadata": {},
   "outputs": [
    {
     "name": "stdout",
     "output_type": "stream",
     "text": [
      "number of training cases :154 for article_2\n",
      "number of test cases:67 for article_2\n",
      "number of training cases :466 for article_3\n",
      "number of test cases:204 for article_3\n",
      "number of training cases :386 for article_5\n",
      "number of test cases:191 for article_5\n",
      "number of training cases :1152 for article_6\n",
      "number of test cases:667 for article_6\n",
      "number of training cases :616 for article_8\n",
      "number of test cases:129 for article_8\n",
      "number of training cases :262 for article_10\n",
      "number of test cases:67 for article_10\n",
      "number of training cases :66 for article_11\n",
      "number of test cases:27 for article_11\n",
      "number of training cases :200 for article_13\n",
      "number of test cases:177 for article_13\n",
      "number of training cases :336 for article_14\n",
      "number of test cases:40 for article_14\n"
     ]
    }
   ],
   "source": [
    "mkdir('./processed_text_df')\n",
    "article_list = ['2', '3', '5', '6', '8', '10', '11', '13', '14']\n",
    "\n",
    "# preprocess texts from each article \n",
    "for i in article_list:\n",
    "    art = pd.read_csv('./articles/article_{}'.format(i))\n",
    "    prepare = corpus_prepare(art) \n",
    "    prepare.remove_missing_case() ## remove 'unavailable' cases \n",
    "    train_x, test_x, train_y, test_y = prepare.train_test_split() ## split dataset into trainset(balanced) testset(keep real ratio)\n",
    "    print(\"number of training cases :{} for article_{}\".format(len(train_x), i))\n",
    "    print(\"number of test cases:{} for article_{}\".format(len(test_x), i))\n",
    "    \n",
    "    ## apply preprocessing & save it as df\n",
    "    train_df = save_as_df(train_x, train_y)\n",
    "    test_df = save_as_df(test_x, test_y)\n",
    "    \n",
    "    ##save df to csv\n",
    "    train_df.to_csv('./processed_text_df/train_article_{}.csv'.format(i), index = False)\n",
    "    test_df.to_csv('./processed_text_df/test_article_{}.csv'.format(i), index = False)\n",
    "    "
   ]
  }
 ],
 "metadata": {
  "hide_input": false,
  "kernelspec": {
   "display_name": "Python 3",
   "language": "python",
   "name": "python3"
  },
  "language_info": {
   "codemirror_mode": {
    "name": "ipython",
    "version": 3
   },
   "file_extension": ".py",
   "mimetype": "text/x-python",
   "name": "python",
   "nbconvert_exporter": "python",
   "pygments_lexer": "ipython3",
   "version": "3.8.6"
  },
  "varInspector": {
   "cols": {
    "lenName": 16,
    "lenType": 16,
    "lenVar": 40
   },
   "kernels_config": {
    "python": {
     "delete_cmd_postfix": "",
     "delete_cmd_prefix": "del ",
     "library": "var_list.py",
     "varRefreshCmd": "print(var_dic_list())"
    },
    "r": {
     "delete_cmd_postfix": ") ",
     "delete_cmd_prefix": "rm(",
     "library": "var_list.r",
     "varRefreshCmd": "cat(var_dic_list()) "
    }
   },
   "types_to_exclude": [
    "module",
    "function",
    "builtin_function_or_method",
    "instance",
    "_Feature"
   ],
   "window_display": false
  }
 },
 "nbformat": 4,
 "nbformat_minor": 4
}
